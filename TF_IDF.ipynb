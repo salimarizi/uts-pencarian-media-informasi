{
  "nbformat": 4,
  "nbformat_minor": 0,
  "metadata": {
    "colab": {
      "name": "TF IDF.ipynb",
      "provenance": []
    },
    "kernelspec": {
      "name": "python3",
      "display_name": "Python 3"
    },
    "language_info": {
      "name": "python"
    }
  },
  "cells": [
    {
      "cell_type": "code",
      "metadata": {
        "id": "8B24Rc1caTkp"
      },
      "source": [
        "import re\n",
        "import string\n",
        "import pandas as pd\n",
        "from functools import reduce\n",
        "from math import log2"
      ],
      "execution_count": null,
      "outputs": []
    },
    {
      "cell_type": "code",
      "metadata": {
        "id": "-PDY7PMWah_J"
      },
      "source": [
        "corpus = \"\"\"\n",
        "auto\n",
        "car wash\n",
        "auto car wash auto\n",
        "machine\n",
        "wash machine\n",
        "\"\"\".split(\"\\n\")[1:-1]"
      ],
      "execution_count": null,
      "outputs": []
    },
    {
      "cell_type": "code",
      "metadata": {
        "colab": {
          "base_uri": "https://localhost:8080/"
        },
        "id": "nvpIcZJran-l",
        "outputId": "0ac39dfe-dae7-4060-e310-9ee23e1a2827"
      },
      "source": [
        "arrayText = []\n",
        "for text in corpus:\n",
        "    arrayText.append(text.lower().split())\n",
        "arrayText"
      ],
      "execution_count": null,
      "outputs": [
        {
          "output_type": "execute_result",
          "data": {
            "text/plain": [
              "[['auto'],\n",
              " ['car', 'wash'],\n",
              " ['auto', 'car', 'wash', 'auto'],\n",
              " ['machine'],\n",
              " ['wash', 'machine']]"
            ]
          },
          "metadata": {
            "tags": []
          },
          "execution_count": 37
        }
      ]
    },
    {
      "cell_type": "code",
      "metadata": {
        "colab": {
          "base_uri": "https://localhost:8080/"
        },
        "id": "nfcPEdQrarGw",
        "outputId": "3dcde4bf-6791-47eb-a4a8-e149389117e0"
      },
      "source": [
        "word_set = set(arrayText[0])\n",
        "for i in range(1, len(arrayText)):\n",
        "    word_set = word_set.union(set(arrayText[i]))\n",
        "print(word_set)"
      ],
      "execution_count": null,
      "outputs": [
        {
          "output_type": "stream",
          "text": [
            "{'car', 'wash', 'auto', 'machine'}\n"
          ],
          "name": "stdout"
        }
      ]
    },
    {
      "cell_type": "code",
      "metadata": {
        "colab": {
          "base_uri": "https://localhost:8080/",
          "height": 204
        },
        "id": "joK7R3-yarS6",
        "outputId": "880a03f1-4509-48d5-97ac-67b26e481b00"
      },
      "source": [
        "word_dicts = [None] * len(arrayText)\n",
        "\n",
        "for i in range(len(arrayText)):\n",
        "    word_dicts[i] = dict.fromkeys(word_set, 0)\n",
        "    for word in arrayText[i]:\n",
        "        word_dicts[i][word] += 1\n",
        "        \n",
        "pd.DataFrame(word_dicts)"
      ],
      "execution_count": null,
      "outputs": [
        {
          "output_type": "execute_result",
          "data": {
            "text/html": [
              "<div>\n",
              "<style scoped>\n",
              "    .dataframe tbody tr th:only-of-type {\n",
              "        vertical-align: middle;\n",
              "    }\n",
              "\n",
              "    .dataframe tbody tr th {\n",
              "        vertical-align: top;\n",
              "    }\n",
              "\n",
              "    .dataframe thead th {\n",
              "        text-align: right;\n",
              "    }\n",
              "</style>\n",
              "<table border=\"1\" class=\"dataframe\">\n",
              "  <thead>\n",
              "    <tr style=\"text-align: right;\">\n",
              "      <th></th>\n",
              "      <th>car</th>\n",
              "      <th>wash</th>\n",
              "      <th>auto</th>\n",
              "      <th>machine</th>\n",
              "    </tr>\n",
              "  </thead>\n",
              "  <tbody>\n",
              "    <tr>\n",
              "      <th>0</th>\n",
              "      <td>0</td>\n",
              "      <td>0</td>\n",
              "      <td>1</td>\n",
              "      <td>0</td>\n",
              "    </tr>\n",
              "    <tr>\n",
              "      <th>1</th>\n",
              "      <td>1</td>\n",
              "      <td>1</td>\n",
              "      <td>0</td>\n",
              "      <td>0</td>\n",
              "    </tr>\n",
              "    <tr>\n",
              "      <th>2</th>\n",
              "      <td>1</td>\n",
              "      <td>1</td>\n",
              "      <td>2</td>\n",
              "      <td>0</td>\n",
              "    </tr>\n",
              "    <tr>\n",
              "      <th>3</th>\n",
              "      <td>0</td>\n",
              "      <td>0</td>\n",
              "      <td>0</td>\n",
              "      <td>1</td>\n",
              "    </tr>\n",
              "    <tr>\n",
              "      <th>4</th>\n",
              "      <td>0</td>\n",
              "      <td>1</td>\n",
              "      <td>0</td>\n",
              "      <td>1</td>\n",
              "    </tr>\n",
              "  </tbody>\n",
              "</table>\n",
              "</div>"
            ],
            "text/plain": [
              "   car  wash  auto  machine\n",
              "0    0     0     1        0\n",
              "1    1     1     0        0\n",
              "2    1     1     2        0\n",
              "3    0     0     0        1\n",
              "4    0     1     0        1"
            ]
          },
          "metadata": {
            "tags": []
          },
          "execution_count": 39
        }
      ]
    },
    {
      "cell_type": "code",
      "metadata": {
        "id": "2K13-pkaara4"
      },
      "source": [
        "def compute_tf(word_dict, l):\n",
        "    tf = {}\n",
        "    sum_nk = len(l)\n",
        "    for word, count in word_dict.items():\n",
        "        tf[word] = count/sum_nk\n",
        "    return tf"
      ],
      "execution_count": null,
      "outputs": []
    },
    {
      "cell_type": "code",
      "metadata": {
        "id": "ZgB-al8darf1"
      },
      "source": [
        "tfs = [None] * len(arrayText)\n",
        "\n",
        "for i in range(len(arrayText)):\n",
        "    tfs[i] = compute_tf(word_dicts[i], arrayText[i])"
      ],
      "execution_count": null,
      "outputs": []
    },
    {
      "cell_type": "code",
      "metadata": {
        "id": "iar6Khd7a25-"
      },
      "source": [
        "def compute_idf(strings_list):\n",
        "    n = len(strings_list)\n",
        "    idf = dict.fromkeys(strings_list[0].keys(), 0)\n",
        "    for l in strings_list:\n",
        "        for word, count in l.items():\n",
        "            if count > 0:\n",
        "                idf[word] += count\n",
        "    \n",
        "    for word, v in idf.items():\n",
        "        idf[word] = log2(n / float(v))\n",
        "    return idf"
      ],
      "execution_count": null,
      "outputs": []
    },
    {
      "cell_type": "code",
      "metadata": {
        "colab": {
          "base_uri": "https://localhost:8080/"
        },
        "id": "FrysW8Eya29f",
        "outputId": "3932c9a8-3412-4ac5-9d97-0e6ce002a539"
      },
      "source": [
        "idf = compute_idf(word_dicts)\n",
        "idf"
      ],
      "execution_count": null,
      "outputs": [
        {
          "output_type": "execute_result",
          "data": {
            "text/plain": [
              "{'auto': 0.7369655941662062,\n",
              " 'car': 1.3219280948873624,\n",
              " 'machine': 1.3219280948873624,\n",
              " 'wash': 0.7369655941662062}"
            ]
          },
          "metadata": {
            "tags": []
          },
          "execution_count": 60
        }
      ]
    },
    {
      "cell_type": "code",
      "metadata": {
        "id": "aLIk8Izba3Bj"
      },
      "source": [
        "def compute_tf_idf(tf, idf):\n",
        "    tf_idf = dict.fromkeys(tf.keys(), 0)\n",
        "    for word, v in tf.items():\n",
        "        tf_idf[word] = v * idf[word]\n",
        "    return tf_idf"
      ],
      "execution_count": null,
      "outputs": []
    },
    {
      "cell_type": "code",
      "metadata": {
        "id": "lAS1koypa_Bf"
      },
      "source": [
        "tf_idfs = [None] * len(arrayText)\n",
        "\n",
        "for i in range(len(arrayText)):\n",
        "    tf_idfs[i] = compute_tf_idf(tfs[i], idf)"
      ],
      "execution_count": null,
      "outputs": []
    },
    {
      "cell_type": "code",
      "metadata": {
        "colab": {
          "base_uri": "https://localhost:8080/",
          "height": 204
        },
        "id": "o-ZoYf-NbB_H",
        "outputId": "89c60808-82b0-4ce7-d3ae-dc1c7b90ab7a"
      },
      "source": [
        "pd.DataFrame(tf_idfs)"
      ],
      "execution_count": null,
      "outputs": [
        {
          "output_type": "execute_result",
          "data": {
            "text/html": [
              "<div>\n",
              "<style scoped>\n",
              "    .dataframe tbody tr th:only-of-type {\n",
              "        vertical-align: middle;\n",
              "    }\n",
              "\n",
              "    .dataframe tbody tr th {\n",
              "        vertical-align: top;\n",
              "    }\n",
              "\n",
              "    .dataframe thead th {\n",
              "        text-align: right;\n",
              "    }\n",
              "</style>\n",
              "<table border=\"1\" class=\"dataframe\">\n",
              "  <thead>\n",
              "    <tr style=\"text-align: right;\">\n",
              "      <th></th>\n",
              "      <th>car</th>\n",
              "      <th>wash</th>\n",
              "      <th>auto</th>\n",
              "      <th>machine</th>\n",
              "    </tr>\n",
              "  </thead>\n",
              "  <tbody>\n",
              "    <tr>\n",
              "      <th>0</th>\n",
              "      <td>0.000000</td>\n",
              "      <td>0.000000</td>\n",
              "      <td>0.736966</td>\n",
              "      <td>0.000000</td>\n",
              "    </tr>\n",
              "    <tr>\n",
              "      <th>1</th>\n",
              "      <td>0.660964</td>\n",
              "      <td>0.368483</td>\n",
              "      <td>0.000000</td>\n",
              "      <td>0.000000</td>\n",
              "    </tr>\n",
              "    <tr>\n",
              "      <th>2</th>\n",
              "      <td>0.330482</td>\n",
              "      <td>0.184241</td>\n",
              "      <td>0.368483</td>\n",
              "      <td>0.000000</td>\n",
              "    </tr>\n",
              "    <tr>\n",
              "      <th>3</th>\n",
              "      <td>0.000000</td>\n",
              "      <td>0.000000</td>\n",
              "      <td>0.000000</td>\n",
              "      <td>1.321928</td>\n",
              "    </tr>\n",
              "    <tr>\n",
              "      <th>4</th>\n",
              "      <td>0.000000</td>\n",
              "      <td>0.368483</td>\n",
              "      <td>0.000000</td>\n",
              "      <td>0.660964</td>\n",
              "    </tr>\n",
              "  </tbody>\n",
              "</table>\n",
              "</div>"
            ],
            "text/plain": [
              "        car      wash      auto   machine\n",
              "0  0.000000  0.000000  0.736966  0.000000\n",
              "1  0.660964  0.368483  0.000000  0.000000\n",
              "2  0.330482  0.184241  0.368483  0.000000\n",
              "3  0.000000  0.000000  0.000000  1.321928\n",
              "4  0.000000  0.368483  0.000000  0.660964"
            ]
          },
          "metadata": {
            "tags": []
          },
          "execution_count": 63
        }
      ]
    }
  ]
}